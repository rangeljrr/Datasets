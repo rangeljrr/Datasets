{
 "cells": [
  {
   "cell_type": "code",
   "execution_count": 1,
   "id": "2ea4dc43-8acd-47a8-8fcd-8eea823218ab",
   "metadata": {},
   "outputs": [],
   "source": [
    "import pandas as pd\n",
    "\n",
    "from _fred_data_functions import collect_fred_data\n",
    "from _support_functions import check_directory\n",
    "from _config import fred_directory"
   ]
  },
  {
   "cell_type": "markdown",
   "id": "0012600e-ef66-461e-bc4e-83dd2868bd03",
   "metadata": {},
   "source": [
    "### Fred Economic Database\n",
    "\n",
    "Current:\n",
    " - GDP Index\n",
    " - Unemployment Rate\n",
    " - Industrial Production\n",
    " - Consumer Price Index\n",
    " - Personal Consumption Expenditure:\n",
    " - Producer Price Index (All Commodities):\n",
    " - U.S. National Home Price Index\n",
    " - Construction Spending\n",
    " - Stock Market:\n",
    " - Retail Sales\n",
    "\n",
    "Work In Progress:\n",
    "- Inflation\n",
    "- Home Sales\n",
    "- Manufacturing Demand\n",
    "- Homes Built"
   ]
  },
  {
   "cell_type": "code",
   "execution_count": 2,
   "id": "9517e58d-d3a5-4e26-b019-6cd53fc0969a",
   "metadata": {},
   "outputs": [],
   "source": [
    "run_cell = True\n",
    "\n",
    "if run_cell == True:\n",
    "    check_directory(fred_directory)\n",
    "    collect_fred_data()"
   ]
  },
  {
   "cell_type": "code",
   "execution_count": null,
   "id": "61a8acc9-1c36-4359-a92c-21fce575c070",
   "metadata": {},
   "outputs": [],
   "source": []
  }
 ],
 "metadata": {
  "kernelspec": {
   "display_name": "Python 3 (ipykernel)",
   "language": "python",
   "name": "python3"
  },
  "language_info": {
   "codemirror_mode": {
    "name": "ipython",
    "version": 3
   },
   "file_extension": ".py",
   "mimetype": "text/x-python",
   "name": "python",
   "nbconvert_exporter": "python",
   "pygments_lexer": "ipython3",
   "version": "3.9.12"
  }
 },
 "nbformat": 4,
 "nbformat_minor": 5
}
